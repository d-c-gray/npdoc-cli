{
  "cells": [
    {
      "cell_type": "markdown",
      "metadata": {},
      "source": [
        "\n# Naming\n\nThis module explains how naming rules can be applied to a CLI.\n"
      ]
    },
    {
      "cell_type": "code",
      "execution_count": null,
      "metadata": {
        "collapsed": false
      },
      "outputs": [],
      "source": [
        "from npdoc_cli import cli"
      ]
    },
    {
      "cell_type": "markdown",
      "metadata": {},
      "source": [
        "## Dashes and Underscores\nIt's common for CLI to use dashes to seperate words when naming variables\nin the terminal, however Python obviously won't support that. \nBy default, ``cli.build()`` will turn replace underscores in program, command\nsubcommand and argument names. You can turn this off in the build call.\n\n"
      ]
    },
    {
      "cell_type": "code",
      "execution_count": null,
      "metadata": {
        "collapsed": false
      },
      "outputs": [],
      "source": [
        "@cli.program\ndef prog_name(my_arg: int, my_option: float = 0):\n    \"\"\"\n    Summary.\n\n    Parameters\n    ----------\n    my_arg : int\n        DESCRIPTION.\n    my_option : float,optional\n        DESCRIPTION\n    \"\"\"\n    pass\n\nprint('-- replace underscores --')\ncli.build()\ncli.print_help()\n\nprint('-- keep underscores --')\ncli.build(replace_underscores=False)\ncli.print_help()"
      ]
    },
    {
      "cell_type": "markdown",
      "metadata": {},
      "source": [
        "## Short Flags\nAll positional arguments are assigned a short flag and a long flag. Long\nflags will always be the arguments name as it exists in python + whatever\nnaming rules are applied to the build call. However, the short flag will\nuse the first letter of the argument's name. If another argument exists with\nthat flag, it will keep adding letters until a unique short flag is created.\nIn that respect, the order of arguments in the function signature will\ndetermine the short flag if arguments have similar names.\n\n"
      ]
    },
    {
      "cell_type": "code",
      "execution_count": null,
      "metadata": {
        "collapsed": false
      },
      "outputs": [],
      "source": [
        "cli.reset()\n@cli.program\ndef prog_name(option1: int = 0, option2: float = 0):\n    \"\"\"\n    Summary.\n\n    Parameters\n    ----------\n    option1 : int\n        DESCRIPTION.\n    option2 : float,optional\n        DESCRIPTION\n    \"\"\"\n    pass\n\ncli.build()\ncli.print_help()"
      ]
    }
  ],
  "metadata": {
    "kernelspec": {
      "display_name": "Python 3",
      "language": "python",
      "name": "python3"
    },
    "language_info": {
      "codemirror_mode": {
        "name": "ipython",
        "version": 3
      },
      "file_extension": ".py",
      "mimetype": "text/x-python",
      "name": "python",
      "nbconvert_exporter": "python",
      "pygments_lexer": "ipython3",
      "version": "3.12.8"
    }
  },
  "nbformat": 4,
  "nbformat_minor": 0
}