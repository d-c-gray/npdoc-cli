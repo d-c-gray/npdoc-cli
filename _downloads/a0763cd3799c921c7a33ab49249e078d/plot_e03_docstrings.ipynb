{
  "cells": [
    {
      "cell_type": "markdown",
      "metadata": {},
      "source": [
        "\n# Doc Strings\nIn addition to parsing function signatures, the module assumes\nthat your functions are documented with doc strings according to  the\n|numpy style guide|_.\n\nThis tutorial goes over how to use the doc-strings to further customize\nyour CLI.\n"
      ]
    },
    {
      "cell_type": "code",
      "execution_count": null,
      "metadata": {
        "collapsed": false
      },
      "outputs": [],
      "source": [
        "from npdoc_cli import cli"
      ]
    },
    {
      "cell_type": "markdown",
      "metadata": {},
      "source": [
        "## Summary\nThe ``Summary`` and  ``Extended Summary`` of the doc string are converted into the\nhelp message of your parser. The descriptions in the ``Parameters`` section\nare converted into the help message for each argument\n\n"
      ]
    },
    {
      "cell_type": "code",
      "execution_count": null,
      "metadata": {
        "collapsed": false
      },
      "outputs": [],
      "source": [
        "cli.reset()\n@cli.program\ndef hello(name: str, number: int):\n    \"\"\"\n    This is a summary line.\n\n    This is an extended summary line.\n\n    Parameters\n    ----------\n    name : str\n        This is a help message.\n    \"\"\"\n    for i in range(number):\n        print('hello', name)\n\n\ncli.build()\ncli.print_help()"
      ]
    },
    {
      "cell_type": "markdown",
      "metadata": {},
      "source": [
        "## Choices\nSometimes a function expects specific choices.\nYou can include those in the ``Parameters`` section, and they will be \nadded to the parser, which will check that a valid choice was passed\nas a command line argument.\n\nTo do this, add a curly braces next to the doc strings type indication\nformatted as ``{val2, val2, ...}`` where the first value is the default.\nEach item in the choices will be cast into the type in the signature.\n\n"
      ]
    },
    {
      "cell_type": "code",
      "execution_count": null,
      "metadata": {
        "collapsed": false
      },
      "outputs": [],
      "source": [
        "cli.reset()\n@cli.program\ndef options(o: str = 'a'):\n    \"\"\"\n    Parameters\n    ----------\n    o : str, {a, b, c}\n        This function expects a, b, or c.\n    \"\"\"\n    print(o)\n\ncli.build()\ntry:\n    args = cli.parse_args(['-o', 'd'])\nexcept SystemExit as e:\n    print(e)"
      ]
    },
    {
      "cell_type": "markdown",
      "metadata": {},
      "source": [
        "## Action, Nargs, and Required\nUnderhood the hood, the module is generating an |argparse argument|_ and\nsome settings\ndon't fit nicely into the signature or |numpy style guide|_. For those,\nyou can include them in the descriptions of the argument in the ``Parameters``\nsection.\n\nThese settings should be formatted as: \n``For CLI argument key = <val>, ...`` and ended with a period. The spaces and\nperiod are important and must be included properly on a single line.\n\nThis line will not be included in the help message of the generated CLI.\n\n"
      ]
    },
    {
      "cell_type": "code",
      "execution_count": null,
      "metadata": {
        "collapsed": false
      },
      "outputs": [],
      "source": [
        "cli.reset()\n@cli.program\ndef options(mylist: list[str] = []):\n    \"\"\"\n    Parameters\n    ----------\n    mylist : list[str]\n        This function expects some strings.\n        For CLI argument required = True, action = append, nargs = *.\n    \"\"\"\n    print(mylist)\n\ncli.build()\ncli.print_help()"
      ]
    }
  ],
  "metadata": {
    "kernelspec": {
      "display_name": "Python 3",
      "language": "python",
      "name": "python3"
    },
    "language_info": {
      "codemirror_mode": {
        "name": "ipython",
        "version": 3
      },
      "file_extension": ".py",
      "mimetype": "text/x-python",
      "name": "python",
      "nbconvert_exporter": "python",
      "pygments_lexer": "ipython3",
      "version": "3.12.3"
    }
  },
  "nbformat": 4,
  "nbformat_minor": 0
}