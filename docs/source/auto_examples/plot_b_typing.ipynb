{
  "cells": [
    {
      "cell_type": "markdown",
      "metadata": {},
      "source": [
        "\n# Type Hinting\n\nThe type of command line argument is inferred from the type hinting\nof the functions signature.\n"
      ]
    },
    {
      "cell_type": "code",
      "execution_count": null,
      "metadata": {
        "collapsed": false
      },
      "outputs": [],
      "source": [
        "from npdoc_cli import cli\n\n@cli.program\ndef hello(name: str):\n    \"\"\"\n    Say hello!\n\n    Parameters\n    ----------\n    name : str\n        Who is being greeted.\n    \"\"\"\n    print('hello',name)\n\ncli.build()\ncli.print_help()"
      ]
    }
  ],
  "metadata": {
    "kernelspec": {
      "display_name": "Python 3",
      "language": "python",
      "name": "python3"
    },
    "language_info": {
      "codemirror_mode": {
        "name": "ipython",
        "version": 3
      },
      "file_extension": ".py",
      "mimetype": "text/x-python",
      "name": "python",
      "nbconvert_exporter": "python",
      "pygments_lexer": "ipython3",
      "version": "3.12.8"
    }
  },
  "nbformat": 4,
  "nbformat_minor": 0
}