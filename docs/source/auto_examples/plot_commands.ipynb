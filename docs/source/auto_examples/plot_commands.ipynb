{
  "cells": [
    {
      "cell_type": "markdown",
      "metadata": {},
      "source": [
        "\n# Creating a Program\n\nThis is a basic example for generating a simple program\nwith npdoc_cli.\n\n# The attribute ``cli`` is a pre-made instance of \n# :py:obj:`npdoc_cli.NumpyDocCLI` for easy access across different\n# modules. It is the access point for the  module.\n"
      ]
    },
    {
      "cell_type": "code",
      "execution_count": null,
      "metadata": {
        "collapsed": false
      },
      "outputs": [],
      "source": [
        "from npdoc_cli import cli"
      ]
    },
    {
      "cell_type": "markdown",
      "metadata": {},
      "source": [
        "## Build the CLI\nFirst, define an entry point into the program by wrapping\na method in `cli.program()` and document your function with \ntype hinting and numpy style doc strings. When ``cli.build()``\nis called, the function's type hinting and doc strings will be\nparsed and converted into a command line interface.\n\n"
      ]
    },
    {
      "cell_type": "code",
      "execution_count": null,
      "metadata": {
        "collapsed": false
      },
      "outputs": [],
      "source": [
        "@cli.program\ndef hello(name: str):\n    \"\"\"\n    Say hello!\n\n    Parameters\n    ----------\n    name : str\n        Who is being greeted.\n    \"\"\"\n    print('hello',name)\n\ncli.build()\ncli.print_help()"
      ]
    },
    {
      "cell_type": "markdown",
      "metadata": {},
      "source": [
        "## Dispatching to Functions\nCalling ``cli.parse_args()`` will parse any command line arguments\ninto an argparse NameSpace. Passing that through\n``cli.dispatch()`` will route the arguments to the correct function.\n\nNormally, we would call ``cli.parse_args()`` as empty to get the\narguments from the command line that invoked the program. For this\nexample, we pass our own arguments as a list. Calling ``cli.dispatch(args)`` will pass the\narguments from the command line to the correct function.\n\n"
      ]
    },
    {
      "cell_type": "code",
      "execution_count": null,
      "metadata": {
        "collapsed": false
      },
      "outputs": [],
      "source": [
        "args = cli.parse_args(['reader'])\ncli.dispatch(args)"
      ]
    },
    {
      "cell_type": "markdown",
      "metadata": {},
      "source": [
        "The function is stored in the attribute ``args.__routine__``, and can be\naccessed and called manually if desired.\n\n"
      ]
    },
    {
      "cell_type": "code",
      "execution_count": null,
      "metadata": {
        "collapsed": false
      },
      "outputs": [],
      "source": [
        "args = cli.parse_args(['reader'])\nprint(args.__routine__)\nargs = vars(args)\nfunc = args.pop('__routine__')\nfunc(**args)"
      ]
    }
  ],
  "metadata": {
    "kernelspec": {
      "display_name": "Python 3",
      "language": "python",
      "name": "python3"
    },
    "language_info": {
      "codemirror_mode": {
        "name": "ipython",
        "version": 3
      },
      "file_extension": ".py",
      "mimetype": "text/x-python",
      "name": "python",
      "nbconvert_exporter": "python",
      "pygments_lexer": "ipython3",
      "version": "3.12.8"
    }
  },
  "nbformat": 4,
  "nbformat_minor": 0
}