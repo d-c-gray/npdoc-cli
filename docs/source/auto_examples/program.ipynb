{
  "cells": [
    {
      "cell_type": "markdown",
      "metadata": {},
      "source": [
        "\n# Creating a Program\n\nThis example doesn't do much, it just makes a simple plot\n"
      ]
    },
    {
      "cell_type": "code",
      "execution_count": null,
      "metadata": {
        "collapsed": false
      },
      "outputs": [],
      "source": [
        "from npdoc_cli import cli\n\n@cli.program\ndef display(string: str):\n    \"\"\"\n    Display a string in the console\n\n    Parameters\n    ----------\n    string : str\n        String to be displayed.\n\n    Returns\n    -------\n    None.\n\n    \"\"\"\n    print(string)\n\ncli.build()\nargs = cli.parse_args(['myvalue'])\ncli.dispatch(args)"
      ]
    }
  ],
  "metadata": {
    "kernelspec": {
      "display_name": "Python 3",
      "language": "python",
      "name": "python3"
    },
    "language_info": {
      "codemirror_mode": {
        "name": "ipython",
        "version": 3
      },
      "file_extension": ".py",
      "mimetype": "text/x-python",
      "name": "python",
      "nbconvert_exporter": "python",
      "pygments_lexer": "ipython3",
      "version": "3.12.8"
    }
  },
  "nbformat": 4,
  "nbformat_minor": 0
}