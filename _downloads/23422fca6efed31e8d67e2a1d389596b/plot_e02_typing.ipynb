{
  "cells": [
    {
      "cell_type": "markdown",
      "metadata": {},
      "source": [
        "\n# Function Signatures\n\nThis tutorial goes over how npdoc-cli parses function signatures\naffect the command line interface.\n"
      ]
    },
    {
      "cell_type": "code",
      "execution_count": null,
      "metadata": {
        "collapsed": false
      },
      "outputs": [],
      "source": [
        "from pathlib import Path\nfrom npdoc_cli import cli"
      ]
    },
    {
      "cell_type": "markdown",
      "metadata": {},
      "source": [
        "## Type Signatures\nArguments given to the command line are cast into the provided type\nsignature.\n\n"
      ]
    },
    {
      "cell_type": "code",
      "execution_count": null,
      "metadata": {
        "collapsed": false
      },
      "outputs": [],
      "source": [
        "@cli.program\ndef hello(name: str, number: int):\n    \"\"\"\n    Say hello!\n\n    Parameters\n    ----------\n    name : str\n        Who is being greeted.\n    number : int\n        Number of times to greet.\n    \"\"\"\n    for i in range(number):\n        print('hello', name)\n\n\ncli.build()\nargs = cli.parse_args(['reader', '3'])\ncli.dispatch(args)"
      ]
    },
    {
      "cell_type": "markdown",
      "metadata": {},
      "source": [
        "## Booleans\nBooleans are a special case, as simply casting any string to bool\nwill results in ``True``. To create an optional argument with a \nflag that stores ``True`` or ``False``, create a keyword argument\nin the function signature with the default value (when the option isn't \nspecified in the CLI).\n\n"
      ]
    },
    {
      "cell_type": "code",
      "execution_count": null,
      "metadata": {
        "collapsed": false
      },
      "outputs": [],
      "source": [
        "cli.reset()\n@cli.program\ndef flags(flag_false: bool = True, flag_true: bool = False):\n    \"\"\"\n    Parameters\n    ----------\n    flag_false : bool, optional\n        Flag a false value.\n    flag_true : bool, optional\n        Flag a true value\n    \"\"\"\n    print(flag_false)\n    print(flag_true)\n\ncli.build()\nprint('-- dispatch --')\nargs = cli.parse_args(['--flag-false','--flag-true'])\ncli.dispatch(args)"
      ]
    },
    {
      "cell_type": "markdown",
      "metadata": {},
      "source": [
        "## Custom Types\nThe type casting is called as ``<type>(argument)``, so any arbitrary type\ncan be used in a signature provided it can be called with the raw\nstring as an input.\n\n"
      ]
    },
    {
      "cell_type": "code",
      "execution_count": null,
      "metadata": {
        "collapsed": false
      },
      "outputs": [],
      "source": [
        "cli.reset()\n\n\n@cli.program\ndef show_path(path: Path):\n    \"\"\"\n    Parameters\n    ----------\n    path : Path\n        Path to show.\n\n    \"\"\"\n    print(path, type(path))\n\n\ncli.build()\nargs = cli.parse_args(['my/path/file.ext'])\ncli.dispatch(args)"
      ]
    },
    {
      "cell_type": "markdown",
      "metadata": {},
      "source": [
        "You can define your own types or use functions to parse the string.\n\n"
      ]
    },
    {
      "cell_type": "code",
      "execution_count": null,
      "metadata": {
        "collapsed": false
      },
      "outputs": [],
      "source": [
        "cli.reset()\n\n\ndef hello(string):\n    return 'hello ' + string\n\n\nclass my_int():\n    def __init__(self, string):\n        self.val = int(string)\n\n\n@cli.program\ndef show_path(string: hello, count: my_int):\n    \"\"\"\n    Parameters\n    ----------\n    string : hello\n        hello to who?\n    count : my_int\n        hello how many times?\n\n    \"\"\"\n    for i in range(count.val):\n        print(string)\n\n\ncli.build()\nargs = cli.parse_args(['reader', '3'])\ncli.dispatch(args)"
      ]
    },
    {
      "cell_type": "markdown",
      "metadata": {},
      "source": [
        "## Positional and Optional arguments\nBy default, positional arguments in the function signature are\nturned into positional arguments in the CLI. Keyword arguments\nare turned into optional arguments in the in the CLI\n\n"
      ]
    },
    {
      "cell_type": "code",
      "execution_count": null,
      "metadata": {
        "collapsed": false
      },
      "outputs": [],
      "source": [
        "cli.reset()\n@cli.program\ndef hello(name: str, number: int = 1):\n    \"\"\"\n    Parameters\n    ----------\n    name : str\n        Who is being greeted.\n    number : int\n        Number of times to greet.\n    \"\"\"\n    for i in range(number):\n        print('hello', name)\n\ncli.build()\ncli.print_help()"
      ]
    },
    {
      "cell_type": "markdown",
      "metadata": {},
      "source": [
        "## Lists\nAdding the ``list[type]`` to a function signature will\ntell the parser that function is to take multiple arguments.\nEach argument will be cast into the type enclosed in ``list[]``.\nBy default, arguments with this signature will have the |argparse argument|_\nset to ``action = 'extend'`` and ``nargs = '+'``.\n\n"
      ]
    },
    {
      "cell_type": "code",
      "execution_count": null,
      "metadata": {
        "collapsed": false
      },
      "outputs": [],
      "source": [
        "cli.reset()\n@cli.program\ndef hello(names: list[str]):\n    \"\"\"\n    Parameters\n    ----------\n    names : list[str]\n        Who is being greeted.\n    \"\"\"\n    for n in names: print(n)\n\ncli.build()\ncli.print_help()"
      ]
    }
  ],
  "metadata": {
    "kernelspec": {
      "display_name": "Python 3",
      "language": "python",
      "name": "python3"
    },
    "language_info": {
      "codemirror_mode": {
        "name": "ipython",
        "version": 3
      },
      "file_extension": ".py",
      "mimetype": "text/x-python",
      "name": "python",
      "nbconvert_exporter": "python",
      "pygments_lexer": "ipython3",
      "version": "3.12.3"
    }
  },
  "nbformat": 4,
  "nbformat_minor": 0
}