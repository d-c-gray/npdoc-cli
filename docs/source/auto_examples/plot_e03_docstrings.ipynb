{
  "cells": [
    {
      "cell_type": "markdown",
      "metadata": {},
      "source": [
        "\n# Doc Strings\nIn addition to parsing function signatures, the module assumes\nthat your functions are documenting using numpy style doc strings.\n\nThis tutorial goes over how to use the doc-strings to further customize\nyour CLI.\n"
      ]
    },
    {
      "cell_type": "code",
      "execution_count": null,
      "metadata": {
        "collapsed": false
      },
      "outputs": [],
      "source": [
        "from npdoc_cli import cli"
      ]
    },
    {
      "cell_type": "markdown",
      "metadata": {},
      "source": [
        "## Summary\nThe ``Summary`` and  ``Extended Summary`` of the doc string are converted into the\nhelp message of your parser. The descriptions in the ``Parameters`` section\nare converted into the help message for each argument\n\n"
      ]
    },
    {
      "cell_type": "code",
      "execution_count": null,
      "metadata": {
        "collapsed": false
      },
      "outputs": [],
      "source": [
        "cli.reset()\n@cli.program\ndef hello(name: str, number: int):\n    \"\"\"\n    This is a summary line.\n\n    This is an extended summary line.\n\n    Parameters\n    ----------\n    name : str\n        This is a help message.\n    \"\"\"\n    for i in range(number):\n        print('hello', name)\n\n\ncli.build()\ncli.print_help()"
      ]
    },
    {
      "cell_type": "markdown",
      "metadata": {},
      "source": [
        "## Choices\nSometimes a function expects specific choices.\nYou can include those in the ``Parameters`` section, and they will be \nadded to the parser, which will check that a valid choice was passed\nas a command line argument.\n\n"
      ]
    },
    {
      "cell_type": "code",
      "execution_count": null,
      "metadata": {
        "collapsed": false
      },
      "outputs": [],
      "source": [
        "cli.reset()\n@cli.program\ndef options(o: str = 'a'):\n    \"\"\"\n    Parameters\n    ----------\n    o : str, {a, b, c}\n        This function expects a, b, or c.\n    \"\"\"\n    print(o)\n\ncli.build()\ntry:\n    args = cli.parse_args(['-o', 'd'])\nexcept SystemExit as e:\n    print(e)"
      ]
    },
    {
      "cell_type": "markdown",
      "metadata": {},
      "source": [
        "## Action, Nargs, and Required\nFor the ``argparse.ArgumentParser.add_argument`` method, some settings\ndon't fit nicely into the signature or numpydoc style guid. For those,\nyou can include them in the argument description.\n\nThese settings should be formatted as: \n``For CLI parser key = <val>...`` and ended with a period. The spaces and\nperiod are important and must be included properly on a single line.\n\nThis line will not be included in the help message of the generated CLI.\n\n"
      ]
    },
    {
      "cell_type": "code",
      "execution_count": null,
      "metadata": {
        "collapsed": false
      },
      "outputs": [],
      "source": [
        "cli.reset()\n@cli.program\ndef options(mylist: list[str] = []):\n    \"\"\"\n    Parameters\n    ----------\n    mylist : list[str]\n        This function expects some strings.\n        For CLI parser required = True, action = append, nargs = *.\n    \"\"\"\n    print(mylist)\n\ncli.build()\ncli.print_help()"
      ]
    }
  ],
  "metadata": {
    "kernelspec": {
      "display_name": "Python 3",
      "language": "python",
      "name": "python3"
    },
    "language_info": {
      "codemirror_mode": {
        "name": "ipython",
        "version": 3
      },
      "file_extension": ".py",
      "mimetype": "text/x-python",
      "name": "python",
      "nbconvert_exporter": "python",
      "pygments_lexer": "ipython3",
      "version": "3.12.8"
    }
  },
  "nbformat": 4,
  "nbformat_minor": 0
}