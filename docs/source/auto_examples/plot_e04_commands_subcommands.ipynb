{
  "cells": [
    {
      "cell_type": "markdown",
      "metadata": {},
      "source": [
        "\n# Commands and Subcommands\n\nThis module explains how to organize a CLI into different commands and\nsubcommands.\n"
      ]
    },
    {
      "cell_type": "code",
      "execution_count": null,
      "metadata": {
        "collapsed": false
      },
      "outputs": [],
      "source": [
        "from npdoc_cli import cli"
      ]
    },
    {
      "cell_type": "markdown",
      "metadata": {},
      "source": [
        "## Commands\nCommands can be added to the program by using the wrapper ``cli.command`` on\nadditional functions, and adding type hinting and documentation the same\nway you would a program. You can do this with multiple commands.\n\n"
      ]
    },
    {
      "cell_type": "code",
      "execution_count": null,
      "metadata": {
        "collapsed": false
      },
      "outputs": [],
      "source": [
        "@cli.program\ndef program():\n    \"\"\"\n    Description of program.\n\n    \"\"\"\n    pass\n\n\n@cli.command\ndef hello(name: str):\n    \"\"\"\n    Say hello.\n\n    Parameters\n    ----------\n    name : str\n        Say hello to?.\n\n    \"\"\"\n    print('hello', name)\n\n@cli.command\ndef goodbye(name: str):\n    \"\"\"\n    Say goodbye.\n\n    Parameters\n    ----------\n    name : str\n        Say goodbye to?.\n\n    \"\"\"\n    print('goodbye', name)\n\ncli.build()\ncli.print_help()\nprint('--dispatch--')\nargs = cli.parse_args(['hello','reader'])\ncli.dispatch(args)\nargs = cli.parse_args(['goodbye','reader'])\ncli.dispatch(args)"
      ]
    },
    {
      "cell_type": "markdown",
      "metadata": {},
      "source": [
        "## Subcommands\nIf you want, you can got one step further and\norganize subcommands under any command\nby instead wrapping ``cli.command`` around a class, and wrapping\n``cli.subcommand`` around methods you would like to expose to the\ninterface. Use a the static method wrapper if you don't need a class instance\nto invoke the call.\n\n"
      ]
    },
    {
      "cell_type": "code",
      "execution_count": null,
      "metadata": {
        "collapsed": false
      },
      "outputs": [],
      "source": [
        "cli.reset()\n\n@cli.program\ndef program():\n    \"\"\"\n    Description of program.\n\n    \"\"\"\n    pass\n\n@cli.command\nclass say():\n    \"\"\"\n    This is a command for saying things.\n    \"\"\"\n    @cli.subcommand\n    @staticmethod\n    def hello(name: str):\n        \"\"\"\n        Say hello.\n    \n        Parameters\n        ----------\n        name : str\n            Say hello to?.\n    \n        \"\"\"\n        print('hello', name)\n\n    @cli.subcommand\n    @staticmethod\n    def goodbye(name: str):\n        \"\"\"\n        Say goodbye.\n\n        Parameters\n        ----------\n        name : str\n            Say goodbye to?.\n\n        \"\"\"\n        print('goodbye', name)\n\ncli.build(say())\nargs = cli.parse_args(['say', 'hello','reader'])\ncli.dispatch(args)\nargs = cli.parse_args(['say', 'goodbye','reader'])\ncli.dispatch(args)"
      ]
    },
    {
      "cell_type": "markdown",
      "metadata": {},
      "source": [
        "### Class Instances\nBy default, the build method will assign the class itself to call the\nroutine when building the CLI. If your function requires an instance of the \nclass to call the function (i.e. an instance method) then you need to\npass that instance to the build call ``cli.build(inst1,inst2,...)``.\n\n"
      ]
    },
    {
      "cell_type": "code",
      "execution_count": null,
      "metadata": {
        "collapsed": false
      },
      "outputs": [],
      "source": [
        "cli.reset()\n\n@cli.program\ndef program():\n    \"\"\"\n    Description of program.\n\n    \"\"\"\n    pass\n\n@cli.command\nclass say():\n    \"\"\"\n    This is a command for saying things.\n    \"\"\"\n    def __init__(self,name:str):\n        self.name = name\n\n    @cli.subcommand\n    def hello(self):\n        \"\"\"\n        Say hello.\n\n        \"\"\"\n        print('hello', self.name)\n\ns = say('reader')\ncli.build(s)\nargs = cli.parse_args(['say','hello'])\ncli.dispatch(args)"
      ]
    },
    {
      "cell_type": "markdown",
      "metadata": {},
      "source": [
        "## Resolution Order\nThe :py:obj:`NumpyDocCLI` class (of which ``cli`` is an instance) delays\nbuilding the CLI until ``cli.build()`` is called. You don't need to declare\nyour programs/commands/subcommands in any particular order. By default,\ncommands and subcommands will be added in the order they are defined.\nIf they are spread out across modules, that will depend on the order the\nmodules are imported. Optionally, you can change the sort setting when calling\n``cli.build``.\n\n"
      ]
    },
    {
      "cell_type": "code",
      "execution_count": null,
      "metadata": {
        "collapsed": false
      },
      "outputs": [],
      "source": [
        "cli.reset()\n\n@cli.command\ndef hello(name: str):\n    \"\"\"\n    Say hello.\n\n    Parameters\n    ----------\n    name : str\n        Say hello to?.\n\n    \"\"\"\n    print('hello', name)\n\n@cli.command\ndef goodbye(name: str):\n    \"\"\"\n    Say goodbye.\n\n    Parameters\n    ----------\n    name : str\n        Say goodbye to?.\n\n    \"\"\"\n    print('goodbye', name)\n\n@cli.program\ndef program():\n    \"\"\"\n    Description of program.\n\n    \"\"\"\n    pass\n\n\nprint('-- unsorted --')\ncli.build()\ncli.print_help()\nprint('\\n-- alphabetical --')\ncli.build(sort = 'alphabetical')\ncli.print_help()"
      ]
    }
  ],
  "metadata": {
    "kernelspec": {
      "display_name": "Python 3",
      "language": "python",
      "name": "python3"
    },
    "language_info": {
      "codemirror_mode": {
        "name": "ipython",
        "version": 3
      },
      "file_extension": ".py",
      "mimetype": "text/x-python",
      "name": "python",
      "nbconvert_exporter": "python",
      "pygments_lexer": "ipython3",
      "version": "3.12.8"
    }
  },
  "nbformat": 4,
  "nbformat_minor": 0
}